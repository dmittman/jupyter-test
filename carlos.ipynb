{
 "cells": [
  {
   "cell_type": "markdown",
   "metadata": {},
   "source": [
    "# Converting Notebooks"
   ]
  },
  {
   "cell_type": "markdown",
   "metadata": {},
   "source": [
    "* How to Use NBConvert  \n",
    "http://nbviewer.ipython.org/github/Carreau/posts/blob/master/06-NBconvert-Doc-Draft.ipynb\n",
    "  \n",
    "  \n",
    "* Make your slides with IPython  \n",
    "http://www.damian.oquanta.info/posts/make-your-slides-with-ipython.html\n",
    "  \n",
    "  \n",
    "* Github talk at OSCon 2015  \n",
    "https://github.com/jbwhit/OSCON-2015\n",
    "\n",
    "\n",
    "* Toolbar button  \n",
    "https://github.com/damianavila/RISE"
   ]
  },
  {
   "cell_type": "markdown",
   "metadata": {},
   "source": [
    "## Convert a notebook into reveal.js slides and open it"
   ]
  },
  {
   "cell_type": "code",
   "execution_count": 2,
   "metadata": {
    "collapsed": false,
    "scrolled": true
   },
   "outputs": [
    {
     "name": "stderr",
     "output_type": "stream",
     "text": [
      "[NbConvertApp] Converting notebook Converting Notebooks.ipynb to slides\n",
      "[NbConvertApp] Writing 200624 bytes to Converting Notebooks.slides.html\n"
     ]
    }
   ],
   "source": [
    "%%bash\n",
    "ipython nbconvert 'Converting Notebooks.ipynb' --to=slides\n",
    "open 'Converting Notebooks.slides.html'"
   ]
  },
  {
   "cell_type": "markdown",
   "metadata": {},
   "source": [
    "## Convert a noteook into reveal.js slides and serve it locally"
   ]
  },
  {
   "cell_type": "code",
   "execution_count": null,
   "metadata": {
    "collapsed": true
   },
   "outputs": [],
   "source": [
    "%%bash\n",
    "ipython nbconvert your_slides.ipynb --to slides --post serve"
   ]
  },
  {
   "cell_type": "markdown",
   "metadata": {},
   "source": [
    "## Convert a notebook into RST"
   ]
  },
  {
   "cell_type": "code",
   "execution_count": null,
   "metadata": {
    "collapsed": true
   },
   "outputs": [],
   "source": [
    "%%bash\n",
    "ipython nbconvert README.ipynb --to=rst"
   ]
  }
 ],
 "metadata": {
  "kernelspec": {
   "display_name": "Python 2",
   "language": "python",
   "name": "python2"
  },
  "language_info": {
   "codemirror_mode": {
    "name": "ipython",
    "version": 2
   },
   "file_extension": ".py",
   "mimetype": "text/x-python",
   "name": "python",
   "nbconvert_exporter": "python",
   "pygments_lexer": "ipython2",
   "version": "2.7.10"
  }
 },
 "nbformat": 4,
 "nbformat_minor": 0
}
